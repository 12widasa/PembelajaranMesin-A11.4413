{
 "cells": [
  {
   "cell_type": "code",
   "execution_count": 14,
   "metadata": {},
   "outputs": [],
   "source": [
    "import pandas as pd\n",
    "import numpy as np\n",
    "import matplotlib.pyplot as plt\n",
    "%matplotlib inline\n",
    "from sklearn.preprocessing import LabelEncoder "
   ]
  },
  {
   "cell_type": "code",
   "execution_count": 15,
   "metadata": {},
   "outputs": [],
   "source": [
    "train = pd.read_csv('train.csv')\n",
    "test = pd.read_csv('test.csv')"
   ]
  },
  {
   "cell_type": "code",
   "execution_count": 16,
   "metadata": {},
   "outputs": [
    {
     "name": "stderr",
     "output_type": "stream",
     "text": [
      "C:\\Users\\widas\\AppData\\Local\\Temp\\ipykernel_12804\\1199015277.py:35: SettingWithCopyWarning: \n",
      "A value is trying to be set on a copy of a slice from a DataFrame\n",
      "\n",
      "See the caveats in the documentation: https://pandas.pydata.org/pandas-docs/stable/user_guide/indexing.html#returning-a-view-versus-a-copy\n",
      "  test.drop('Item_Outlet_Sales', axis=1, inplace=True)\n"
     ]
    }
   ],
   "source": [
    "# preprocessing\n",
    "\n",
    "### mean imputations \n",
    "train['Item_Weight'].fillna((train['Item_Weight'].mean()), inplace=True)\n",
    "test['Item_Weight'].fillna((test['Item_Weight'].mean()), inplace=True)\n",
    "\n",
    "### reducing fat content to only two categories \n",
    "train['Item_Fat_Content'] = train['Item_Fat_Content'].replace(['low fat','LF'], ['Low Fat','Low Fat']) \n",
    "train['Item_Fat_Content'] = train['Item_Fat_Content'].replace(['reg'], ['Regular']) \n",
    "test['Item_Fat_Content'] = test['Item_Fat_Content'].replace(['low fat','LF'], ['Low Fat','Low Fat']) \n",
    "test['Item_Fat_Content'] = test['Item_Fat_Content'].replace(['reg'], ['Regular'])\n",
    "\n",
    "## for calculating establishment year\n",
    "train['Outlet_Establishment_Year'] = 2013 - train['Outlet_Establishment_Year'] \n",
    "test['Outlet_Establishment_Year'] = 2013 - test['Outlet_Establishment_Year'] \n",
    "\n",
    "### missing values for size\n",
    "train['Outlet_Size'].fillna('Small',inplace=True)\n",
    "test['Outlet_Size'].fillna('Small',inplace=True)\n",
    "\n",
    "# Combine DataFrames using concat:\n",
    "combined_data = pd.concat([train, test], ignore_index=True)\n",
    "\n",
    "# Label encoding:\n",
    "number = LabelEncoder()\n",
    "for col in ['Outlet_Size', 'Outlet_Location_Type', 'Outlet_Type', 'Item_Fat_Content']:\n",
    "    combined_data[col] = number.fit_transform(combined_data[col].astype('str'))  # Correct indentation\n",
    "    combined_data[col] = combined_data[col].astype('int')\n",
    "\n",
    "# Separate back into train and test:\n",
    "train = combined_data[:train.shape[0]]\n",
    "test = combined_data[train.shape[0]:]\n",
    "\n",
    "# Drop temporary column in test:\n",
    "test.drop('Item_Outlet_Sales', axis=1, inplace=True)\n",
    "\n",
    "# Remove ID variables:\n",
    "training = train.drop(['Outlet_Identifier', 'Item_Type', 'Item_Identifier'], axis=1)\n",
    "testing = test.drop(['Outlet_Identifier', 'Item_Type', 'Item_Identifier'], axis=1)\n",
    "\n",
    "# Separate target variable:\n",
    "y_train = training['Item_Outlet_Sales']\n",
    "training.drop('Item_Outlet_Sales', axis=1, inplace=True)\n",
    "\n",
    "# Final feature and target variables:\n",
    "features = training.columns\n",
    "target = 'Item_Outlet_Sales'\n",
    "\n",
    "# Prepare input features for modeling:\n",
    "X_train, X_test = training, testing"
   ]
  },
  {
   "cell_type": "markdown",
   "metadata": {},
   "source": [
    "# Model exploration"
   ]
  },
  {
   "cell_type": "code",
   "execution_count": 17,
   "metadata": {},
   "outputs": [
    {
     "name": "stdout",
     "output_type": "stream",
     "text": [
      "Requirement already satisfied: xgboost in c:\\programdata\\anaconda3\\lib\\site-packages (2.0.3)\n",
      "Requirement already satisfied: numpy in c:\\programdata\\anaconda3\\lib\\site-packages (from xgboost) (1.26.4)\n",
      "Requirement already satisfied: scipy in c:\\programdata\\anaconda3\\lib\\site-packages (from xgboost) (1.11.4)\n",
      "Note: you may need to restart the kernel to use updated packages.\n"
     ]
    }
   ],
   "source": [
    "pip install xgboost\n"
   ]
  },
  {
   "cell_type": "code",
   "execution_count": 18,
   "metadata": {},
   "outputs": [],
   "source": [
    "from xgboost import XGBRegressor\n",
    "from sklearn.linear_model import BayesianRidge, Ridge, ElasticNet\n",
    "from sklearn.neighbors import KNeighborsRegressor\n",
    "from sklearn.ensemble import RandomForestRegressor, ExtraTreesRegressor, GradientBoostingRegressor\n",
    "from sklearn.neural_network import MLPRegressor\n",
    "\n",
    "from sklearn.metrics import mean_squared_error\n",
    "from sklearn.model_selection import cross_val_score"
   ]
  },
  {
   "cell_type": "code",
   "execution_count": 19,
   "metadata": {},
   "outputs": [
    {
     "name": "stdout",
     "output_type": "stream",
     "text": [
      "RandomForestRegressor     CV-5 RMSE:  1147.92 (+/- 33503.70)\n",
      "XGBRegressor              CV-5 RMSE:  1194.03 (+/- 9844.93)\n",
      "Ridge                     CV-5 RMSE:  1206.41 (+/- 54020.12)\n",
      "BayesianRidge             CV-5 RMSE:  1206.56 (+/- 52695.34)\n",
      "ExtraTreesRegressor       CV-5 RMSE:  1194.70 (+/- 9446.14)\n",
      "ElasticNet                CV-5 RMSE:  1259.18 (+/- 89803.16)\n",
      "KNeighborsRegressor       CV-5 RMSE:  1245.71 (+/- 37275.84)\n",
      "GradientBoostingRegressor CV-5 RMSE:  1086.23 (+/- 19728.92)\n"
     ]
    }
   ],
   "source": [
    "model_factory = [\n",
    "    RandomForestRegressor(),\n",
    "    XGBRegressor(nthread=1),\n",
    "    #MLPRegressor(),\n",
    "    Ridge(),\n",
    "    BayesianRidge(),\n",
    "    ExtraTreesRegressor(),\n",
    "    ElasticNet(),\n",
    "    KNeighborsRegressor(),\n",
    "    GradientBoostingRegressor()\n",
    "]\n",
    "\n",
    "for model in model_factory:\n",
    "    model.seed = 42\n",
    "    num_folds = 3\n",
    "\n",
    "    scores = cross_val_score(model, X_train, y_train, cv=num_folds, scoring='neg_mean_squared_error')\n",
    "    score_description = \" %0.2f (+/- %0.2f)\" % (np.sqrt(scores.mean()*-1), scores.std() * 2)\n",
    "\n",
    "    print('{model:25} CV-5 RMSE: {score}'.format(\n",
    "        model=model.__class__.__name__,\n",
    "        score=score_description\n",
    "    ))"
   ]
  },
  {
   "cell_type": "code",
   "execution_count": 20,
   "metadata": {},
   "outputs": [
    {
     "name": "stderr",
     "output_type": "stream",
     "text": [
      "c:\\ProgramData\\anaconda3\\Lib\\site-packages\\joblib\\externals\\loky\\process_executor.py:700: UserWarning: A worker stopped while some jobs were given to the executor. This can be caused by a too short worker timeout or by a memory leak.\n",
      "  warnings.warn(\n"
     ]
    },
    {
     "ename": "BrokenProcessPool",
     "evalue": "A task has failed to un-serialize. Please ensure that the arguments of the function are all picklable.",
     "output_type": "error",
     "traceback": [
      "\u001b[1;31m---------------------------------------------------------------------------\u001b[0m",
      "\u001b[1;31m_RemoteTraceback\u001b[0m                          Traceback (most recent call last)",
      "\u001b[1;31m_RemoteTraceback\u001b[0m: \n\"\"\"\nTraceback (most recent call last):\n  File \"c:\\ProgramData\\anaconda3\\Lib\\site-packages\\joblib\\externals\\loky\\process_executor.py\", line 391, in _process_worker\n    call_item = call_queue.get(block=True, timeout=timeout)\n                ^^^^^^^^^^^^^^^^^^^^^^^^^^^^^^^^^^^^^^^^^^^\n  File \"c:\\ProgramData\\anaconda3\\Lib\\multiprocessing\\queues.py\", line 122, in get\n    return _ForkingPickler.loads(res)\n           ^^^^^^^^^^^^^^^^^^^^^^^^^^\nAttributeError: Can't get attribute '_PredictScorer' on <module 'sklearn.metrics._scorer' from 'c:\\\\ProgramData\\\\anaconda3\\\\Lib\\\\site-packages\\\\sklearn\\\\metrics\\\\_scorer.py'>\n\"\"\"",
      "\nThe above exception was the direct cause of the following exception:\n",
      "\u001b[1;31mBrokenProcessPool\u001b[0m                         Traceback (most recent call last)",
      "Cell \u001b[1;32mIn[20], line 12\u001b[0m\n\u001b[0;32m      9\u001b[0m sub[\u001b[39m'\u001b[39m\u001b[39mOutlet_Identifier\u001b[39m\u001b[39m'\u001b[39m] \u001b[39m=\u001b[39m test[\u001b[39m'\u001b[39m\u001b[39mOutlet_Identifier\u001b[39m\u001b[39m'\u001b[39m]\n\u001b[0;32m     10\u001b[0m \u001b[39m#sub.to_csv('bigmart-xgb.csv', index='False')\u001b[39;00m\n\u001b[1;32m---> 12\u001b[0m cross_val_score(model, X_train, y_train, cv\u001b[39m=\u001b[39mnum_folds, scoring\u001b[39m=\u001b[39m\u001b[39m'\u001b[39m\u001b[39mneg_mean_squared_error\u001b[39m\u001b[39m'\u001b[39m, n_jobs\u001b[39m=\u001b[39m\u001b[39m8\u001b[39m)\n",
      "File \u001b[1;32mc:\\ProgramData\\anaconda3\\Lib\\site-packages\\sklearn\\model_selection\\_validation.py:515\u001b[0m, in \u001b[0;36mcross_val_score\u001b[1;34m(estimator, X, y, groups, scoring, cv, n_jobs, verbose, fit_params, pre_dispatch, error_score)\u001b[0m\n\u001b[0;32m    511\u001b[0m     \u001b[39m# scaler\u001b[39;00m\n\u001b[0;32m    512\u001b[0m     \u001b[39mreturn\u001b[39;00m {scaler_score_key: scores}\n\u001b[1;32m--> 515\u001b[0m \u001b[39mdef\u001b[39;00m \u001b[39m_warn_or_raise_about_fit_failures\u001b[39m(results, error_score):\n\u001b[0;32m    516\u001b[0m     fit_errors \u001b[39m=\u001b[39m [\n\u001b[0;32m    517\u001b[0m         result[\u001b[39m\"\u001b[39m\u001b[39mfit_error\u001b[39m\u001b[39m\"\u001b[39m] \u001b[39mfor\u001b[39;00m result \u001b[39min\u001b[39;00m results \u001b[39mif\u001b[39;00m result[\u001b[39m\"\u001b[39m\u001b[39mfit_error\u001b[39m\u001b[39m\"\u001b[39m] \u001b[39mis\u001b[39;00m \u001b[39mnot\u001b[39;00m \u001b[39mNone\u001b[39;00m\n\u001b[0;32m    518\u001b[0m     ]\n\u001b[0;32m    519\u001b[0m     \u001b[39mif\u001b[39;00m fit_errors:\n",
      "File \u001b[1;32mc:\\ProgramData\\anaconda3\\Lib\\site-packages\\sklearn\\model_selection\\_validation.py:266\u001b[0m, in \u001b[0;36mcross_validate\u001b[1;34m(estimator, X, y, groups, scoring, cv, n_jobs, verbose, fit_params, pre_dispatch, return_train_score, return_estimator, error_score)\u001b[0m\n\u001b[0;32m     95\u001b[0m \u001b[39m@validate_params\u001b[39m(\n\u001b[0;32m     96\u001b[0m     {\n\u001b[0;32m     97\u001b[0m         \u001b[39m\"\u001b[39m\u001b[39mestimator\u001b[39m\u001b[39m\"\u001b[39m: [HasMethods(\u001b[39m\"\u001b[39m\u001b[39mfit\u001b[39m\u001b[39m\"\u001b[39m)],\n\u001b[1;32m   (...)\u001b[0m\n\u001b[0;32m    138\u001b[0m     error_score\u001b[39m=\u001b[39mnp\u001b[39m.\u001b[39mnan,\n\u001b[0;32m    139\u001b[0m ):\n\u001b[0;32m    140\u001b[0m \u001b[39m    \u001b[39m\u001b[39m\"\"\"Evaluate metric(s) by cross-validation and also record fit/score times.\u001b[39;00m\n\u001b[0;32m    141\u001b[0m \n\u001b[0;32m    142\u001b[0m \u001b[39m    Read more in the :ref:`User Guide <multimetric_cross_validation>`.\u001b[39;00m\n\u001b[0;32m    143\u001b[0m \n\u001b[0;32m    144\u001b[0m \u001b[39m    Parameters\u001b[39;00m\n\u001b[0;32m    145\u001b[0m \u001b[39m    ----------\u001b[39;00m\n\u001b[0;32m    146\u001b[0m \u001b[39m    estimator : estimator object implementing 'fit'\u001b[39;00m\n\u001b[0;32m    147\u001b[0m \u001b[39m        The object to use to fit the data.\u001b[39;00m\n\u001b[0;32m    148\u001b[0m \n\u001b[0;32m    149\u001b[0m \u001b[39m    X : {array-like, sparse matrix} of shape (n_samples, n_features)\u001b[39;00m\n\u001b[0;32m    150\u001b[0m \u001b[39m        The data to fit. Can be for example a list, or an array.\u001b[39;00m\n\u001b[0;32m    151\u001b[0m \n\u001b[0;32m    152\u001b[0m \u001b[39m    y : array-like of shape (n_samples,) or (n_samples, n_outputs), default=None\u001b[39;00m\n\u001b[0;32m    153\u001b[0m \u001b[39m        The target variable to try to predict in the case of\u001b[39;00m\n\u001b[0;32m    154\u001b[0m \u001b[39m        supervised learning.\u001b[39;00m\n\u001b[0;32m    155\u001b[0m \n\u001b[0;32m    156\u001b[0m \u001b[39m    groups : array-like of shape (n_samples,), default=None\u001b[39;00m\n\u001b[0;32m    157\u001b[0m \u001b[39m        Group labels for the samples used while splitting the dataset into\u001b[39;00m\n\u001b[0;32m    158\u001b[0m \u001b[39m        train/test set. Only used in conjunction with a \"Group\" :term:`cv`\u001b[39;00m\n\u001b[0;32m    159\u001b[0m \u001b[39m        instance (e.g., :class:`GroupKFold`).\u001b[39;00m\n\u001b[0;32m    160\u001b[0m \n\u001b[0;32m    161\u001b[0m \u001b[39m        .. versionchanged:: 1.4\u001b[39;00m\n\u001b[0;32m    162\u001b[0m \u001b[39m            ``groups`` can only be passed if metadata routing is not enabled\u001b[39;00m\n\u001b[0;32m    163\u001b[0m \u001b[39m            via ``sklearn.set_config(enable_metadata_routing=True)``. When routing\u001b[39;00m\n\u001b[0;32m    164\u001b[0m \u001b[39m            is enabled, pass ``groups`` alongside other metadata via the ``params``\u001b[39;00m\n\u001b[0;32m    165\u001b[0m \u001b[39m            argument instead. E.g.:\u001b[39;00m\n\u001b[0;32m    166\u001b[0m \u001b[39m            ``cross_validate(..., params={'groups': groups})``.\u001b[39;00m\n\u001b[0;32m    167\u001b[0m \n\u001b[0;32m    168\u001b[0m \u001b[39m    scoring : str, callable, list, tuple, or dict, default=None\u001b[39;00m\n\u001b[0;32m    169\u001b[0m \u001b[39m        Strategy to evaluate the performance of the cross-validated model on\u001b[39;00m\n\u001b[0;32m    170\u001b[0m \u001b[39m        the test set.\u001b[39;00m\n\u001b[0;32m    171\u001b[0m \n\u001b[0;32m    172\u001b[0m \u001b[39m        If `scoring` represents a single score, one can use:\u001b[39;00m\n\u001b[0;32m    173\u001b[0m \n\u001b[0;32m    174\u001b[0m \u001b[39m        - a single string (see :ref:`scoring_parameter`);\u001b[39;00m\n\u001b[0;32m    175\u001b[0m \u001b[39m        - a callable (see :ref:`scoring`) that returns a single value.\u001b[39;00m\n\u001b[0;32m    176\u001b[0m \n\u001b[0;32m    177\u001b[0m \u001b[39m        If `scoring` represents multiple scores, one can use:\u001b[39;00m\n\u001b[0;32m    178\u001b[0m \n\u001b[0;32m    179\u001b[0m \u001b[39m        - a list or tuple of unique strings;\u001b[39;00m\n\u001b[0;32m    180\u001b[0m \u001b[39m        - a callable returning a dictionary where the keys are the metric\u001b[39;00m\n\u001b[0;32m    181\u001b[0m \u001b[39m          names and the values are the metric scores;\u001b[39;00m\n\u001b[0;32m    182\u001b[0m \u001b[39m        - a dictionary with metric names as keys and callables a values.\u001b[39;00m\n\u001b[0;32m    183\u001b[0m \n\u001b[0;32m    184\u001b[0m \u001b[39m        See :ref:`multimetric_grid_search` for an example.\u001b[39;00m\n\u001b[0;32m    185\u001b[0m \n\u001b[0;32m    186\u001b[0m \u001b[39m    cv : int, cross-validation generator or an iterable, default=None\u001b[39;00m\n\u001b[0;32m    187\u001b[0m \u001b[39m        Determines the cross-validation splitting strategy.\u001b[39;00m\n\u001b[0;32m    188\u001b[0m \u001b[39m        Possible inputs for cv are:\u001b[39;00m\n\u001b[0;32m    189\u001b[0m \n\u001b[0;32m    190\u001b[0m \u001b[39m        - None, to use the default 5-fold cross validation,\u001b[39;00m\n\u001b[0;32m    191\u001b[0m \u001b[39m        - int, to specify the number of folds in a `(Stratified)KFold`,\u001b[39;00m\n\u001b[0;32m    192\u001b[0m \u001b[39m        - :term:`CV splitter`,\u001b[39;00m\n\u001b[0;32m    193\u001b[0m \u001b[39m        - An iterable yielding (train, test) splits as arrays of indices.\u001b[39;00m\n\u001b[0;32m    194\u001b[0m \n\u001b[0;32m    195\u001b[0m \u001b[39m        For int/None inputs, if the estimator is a classifier and ``y`` is\u001b[39;00m\n\u001b[0;32m    196\u001b[0m \u001b[39m        either binary or multiclass, :class:`StratifiedKFold` is used. In all\u001b[39;00m\n\u001b[0;32m    197\u001b[0m \u001b[39m        other cases, :class:`KFold` is used. These splitters are instantiated\u001b[39;00m\n\u001b[0;32m    198\u001b[0m \u001b[39m        with `shuffle=False` so the splits will be the same across calls.\u001b[39;00m\n\u001b[0;32m    199\u001b[0m \n\u001b[0;32m    200\u001b[0m \u001b[39m        Refer :ref:`User Guide <cross_validation>` for the various\u001b[39;00m\n\u001b[0;32m    201\u001b[0m \u001b[39m        cross-validation strategies that can be used here.\u001b[39;00m\n\u001b[0;32m    202\u001b[0m \n\u001b[0;32m    203\u001b[0m \u001b[39m        .. versionchanged:: 0.22\u001b[39;00m\n\u001b[0;32m    204\u001b[0m \u001b[39m            ``cv`` default value if None changed from 3-fold to 5-fold.\u001b[39;00m\n\u001b[0;32m    205\u001b[0m \n\u001b[0;32m    206\u001b[0m \u001b[39m    n_jobs : int, default=None\u001b[39;00m\n\u001b[0;32m    207\u001b[0m \u001b[39m        Number of jobs to run in parallel. Training the estimator and computing\u001b[39;00m\n\u001b[0;32m    208\u001b[0m \u001b[39m        the score are parallelized over the cross-validation splits.\u001b[39;00m\n\u001b[0;32m    209\u001b[0m \u001b[39m        ``None`` means 1 unless in a :obj:`joblib.parallel_backend` context.\u001b[39;00m\n\u001b[0;32m    210\u001b[0m \u001b[39m        ``-1`` means using all processors. See :term:`Glossary <n_jobs>`\u001b[39;00m\n\u001b[0;32m    211\u001b[0m \u001b[39m        for more details.\u001b[39;00m\n\u001b[0;32m    212\u001b[0m \n\u001b[0;32m    213\u001b[0m \u001b[39m    verbose : int, default=0\u001b[39;00m\n\u001b[0;32m    214\u001b[0m \u001b[39m        The verbosity level.\u001b[39;00m\n\u001b[0;32m    215\u001b[0m \n\u001b[0;32m    216\u001b[0m \u001b[39m    fit_params : dict, default=None\u001b[39;00m\n\u001b[0;32m    217\u001b[0m \u001b[39m        Parameters to pass to the fit method of the estimator.\u001b[39;00m\n\u001b[0;32m    218\u001b[0m \n\u001b[0;32m    219\u001b[0m \u001b[39m        .. deprecated:: 1.4\u001b[39;00m\n\u001b[0;32m    220\u001b[0m \u001b[39m            This parameter is deprecated and will be removed in version 1.6. Use\u001b[39;00m\n\u001b[0;32m    221\u001b[0m \u001b[39m            ``params`` instead.\u001b[39;00m\n\u001b[0;32m    222\u001b[0m \n\u001b[0;32m    223\u001b[0m \u001b[39m    params : dict, default=None\u001b[39;00m\n\u001b[0;32m    224\u001b[0m \u001b[39m        Parameters to pass to the underlying estimator's ``fit``, the scorer,\u001b[39;00m\n\u001b[0;32m    225\u001b[0m \u001b[39m        and the CV splitter.\u001b[39;00m\n\u001b[0;32m    226\u001b[0m \n\u001b[0;32m    227\u001b[0m \u001b[39m        .. versionadded:: 1.4\u001b[39;00m\n\u001b[0;32m    228\u001b[0m \n\u001b[0;32m    229\u001b[0m \u001b[39m    pre_dispatch : int or str, default='2*n_jobs'\u001b[39;00m\n\u001b[0;32m    230\u001b[0m \u001b[39m        Controls the number of jobs that get dispatched during parallel\u001b[39;00m\n\u001b[0;32m    231\u001b[0m \u001b[39m        execution. Reducing this number can be useful to avoid an\u001b[39;00m\n\u001b[0;32m    232\u001b[0m \u001b[39m        explosion of memory consumption when more jobs get dispatched\u001b[39;00m\n\u001b[0;32m    233\u001b[0m \u001b[39m        than CPUs can process. This parameter can be:\u001b[39;00m\n\u001b[0;32m    234\u001b[0m \n\u001b[0;32m    235\u001b[0m \u001b[39m            - An int, giving the exact number of total jobs that are\u001b[39;00m\n\u001b[0;32m    236\u001b[0m \u001b[39m              spawned\u001b[39;00m\n\u001b[0;32m    237\u001b[0m \n\u001b[0;32m    238\u001b[0m \u001b[39m            - A str, giving an expression as a function of n_jobs,\u001b[39;00m\n\u001b[0;32m    239\u001b[0m \u001b[39m              as in '2*n_jobs'\u001b[39;00m\n\u001b[0;32m    240\u001b[0m \n\u001b[0;32m    241\u001b[0m \u001b[39m    return_train_score : bool, default=False\u001b[39;00m\n\u001b[0;32m    242\u001b[0m \u001b[39m        Whether to include train scores.\u001b[39;00m\n\u001b[0;32m    243\u001b[0m \u001b[39m        Computing training scores is used to get insights on how different\u001b[39;00m\n\u001b[0;32m    244\u001b[0m \u001b[39m        parameter settings impact the overfitting/underfitting trade-off.\u001b[39;00m\n\u001b[0;32m    245\u001b[0m \u001b[39m        However computing the scores on the training set can be computationally\u001b[39;00m\n\u001b[0;32m    246\u001b[0m \u001b[39m        expensive and is not strictly required to select the parameters that\u001b[39;00m\n\u001b[0;32m    247\u001b[0m \u001b[39m        yield the best generalization performance.\u001b[39;00m\n\u001b[0;32m    248\u001b[0m \n\u001b[0;32m    249\u001b[0m \u001b[39m        .. versionadded:: 0.19\u001b[39;00m\n\u001b[0;32m    250\u001b[0m \n\u001b[0;32m    251\u001b[0m \u001b[39m        .. versionchanged:: 0.21\u001b[39;00m\n\u001b[0;32m    252\u001b[0m \u001b[39m            Default value was changed from ``True`` to ``False``\u001b[39;00m\n\u001b[0;32m    253\u001b[0m \n\u001b[0;32m    254\u001b[0m \u001b[39m    return_estimator : bool, default=False\u001b[39;00m\n\u001b[0;32m    255\u001b[0m \u001b[39m        Whether to return the estimators fitted on each split.\u001b[39;00m\n\u001b[0;32m    256\u001b[0m \n\u001b[0;32m    257\u001b[0m \u001b[39m        .. versionadded:: 0.20\u001b[39;00m\n\u001b[0;32m    258\u001b[0m \n\u001b[0;32m    259\u001b[0m \u001b[39m    return_indices : bool, default=False\u001b[39;00m\n\u001b[0;32m    260\u001b[0m \u001b[39m        Whether to return the train-test indices selected for each split.\u001b[39;00m\n\u001b[0;32m    261\u001b[0m \n\u001b[0;32m    262\u001b[0m \u001b[39m        .. versionadded:: 1.3\u001b[39;00m\n\u001b[0;32m    263\u001b[0m \n\u001b[0;32m    264\u001b[0m \u001b[39m    error_score : 'raise' or numeric, default=np.nan\u001b[39;00m\n\u001b[0;32m    265\u001b[0m \u001b[39m        Value to assign to the score if an error occurs in estimator fitting.\u001b[39;00m\n\u001b[1;32m--> 266\u001b[0m \u001b[39m        If set to 'raise', the error is raised.\u001b[39;00m\n\u001b[0;32m    267\u001b[0m \u001b[39m        If a numeric value is given, FitFailedWarning is raised.\u001b[39;00m\n\u001b[0;32m    268\u001b[0m \n\u001b[0;32m    269\u001b[0m \u001b[39m        .. versionadded:: 0.20\u001b[39;00m\n\u001b[0;32m    270\u001b[0m \n\u001b[0;32m    271\u001b[0m \u001b[39m    Returns\u001b[39;00m\n\u001b[0;32m    272\u001b[0m \u001b[39m    -------\u001b[39;00m\n\u001b[0;32m    273\u001b[0m \u001b[39m    scores : dict of float arrays of shape (n_splits,)\u001b[39;00m\n\u001b[0;32m    274\u001b[0m \u001b[39m        Array of scores of the estimator for each run of the cross validation.\u001b[39;00m\n\u001b[0;32m    275\u001b[0m \n\u001b[0;32m    276\u001b[0m \u001b[39m        A dict of arrays containing the score/time arrays for each scorer is\u001b[39;00m\n\u001b[0;32m    277\u001b[0m \u001b[39m        returned. The possible keys for this ``dict`` are:\u001b[39;00m\n\u001b[0;32m    278\u001b[0m \n\u001b[0;32m    279\u001b[0m \u001b[39m            ``test_score``\u001b[39;00m\n\u001b[0;32m    280\u001b[0m \u001b[39m                The score array for test scores on each cv split.\u001b[39;00m\n\u001b[0;32m    281\u001b[0m \u001b[39m                Suffix ``_score`` in ``test_score`` changes to a specific\u001b[39;00m\n\u001b[0;32m    282\u001b[0m \u001b[39m                metric like ``test_r2`` or ``test_auc`` if there are\u001b[39;00m\n\u001b[0;32m    283\u001b[0m \u001b[39m                multiple scoring metrics in the scoring parameter.\u001b[39;00m\n\u001b[0;32m    284\u001b[0m \u001b[39m            ``train_score``\u001b[39;00m\n\u001b[0;32m    285\u001b[0m \u001b[39m                The score array for train scores on each cv split.\u001b[39;00m\n\u001b[0;32m    286\u001b[0m \u001b[39m                Suffix ``_score`` in ``train_score`` changes to a specific\u001b[39;00m\n\u001b[0;32m    287\u001b[0m \u001b[39m                metric like ``train_r2`` or ``train_auc`` if there are\u001b[39;00m\n\u001b[0;32m    288\u001b[0m \u001b[39m                multiple scoring metrics in the scoring parameter.\u001b[39;00m\n\u001b[0;32m    289\u001b[0m \u001b[39m                This is available only if ``return_train_score`` parameter\u001b[39;00m\n\u001b[0;32m    290\u001b[0m \u001b[39m                is ``True``.\u001b[39;00m\n\u001b[0;32m    291\u001b[0m \u001b[39m            ``fit_time``\u001b[39;00m\n\u001b[0;32m    292\u001b[0m \u001b[39m                The time for fitting the estimator on the train\u001b[39;00m\n\u001b[0;32m    293\u001b[0m \u001b[39m                set for each cv split.\u001b[39;00m\n\u001b[0;32m    294\u001b[0m \u001b[39m            ``score_time``\u001b[39;00m\n\u001b[0;32m    295\u001b[0m \u001b[39m                The time for scoring the estimator on the test set for each\u001b[39;00m\n\u001b[0;32m    296\u001b[0m \u001b[39m                cv split. (Note time for scoring on the train set is not\u001b[39;00m\n\u001b[0;32m    297\u001b[0m \u001b[39m                included even if ``return_train_score`` is set to ``True``\u001b[39;00m\n\u001b[0;32m    298\u001b[0m \u001b[39m            ``estimator``\u001b[39;00m\n\u001b[0;32m    299\u001b[0m \u001b[39m                The estimator objects for each cv split.\u001b[39;00m\n\u001b[0;32m    300\u001b[0m \u001b[39m                This is available only if ``return_estimator`` parameter\u001b[39;00m\n\u001b[0;32m    301\u001b[0m \u001b[39m                is set to ``True``.\u001b[39;00m\n\u001b[0;32m    302\u001b[0m \u001b[39m            ``indices``\u001b[39;00m\n\u001b[0;32m    303\u001b[0m \u001b[39m                The train/test positional indices for each cv split. A dictionary\u001b[39;00m\n\u001b[0;32m    304\u001b[0m \u001b[39m                is returned where the keys are either `\"train\"` or `\"test\"`\u001b[39;00m\n\u001b[0;32m    305\u001b[0m \u001b[39m                and the associated values are a list of integer-dtyped NumPy\u001b[39;00m\n\u001b[0;32m    306\u001b[0m \u001b[39m                arrays with the indices. Available only if `return_indices=True`.\u001b[39;00m\n\u001b[0;32m    307\u001b[0m \n\u001b[0;32m    308\u001b[0m \u001b[39m    See Also\u001b[39;00m\n\u001b[0;32m    309\u001b[0m \u001b[39m    --------\u001b[39;00m\n\u001b[0;32m    310\u001b[0m \u001b[39m    cross_val_score : Run cross-validation for single metric evaluation.\u001b[39;00m\n\u001b[0;32m    311\u001b[0m \n\u001b[0;32m    312\u001b[0m \u001b[39m    cross_val_predict : Get predictions from each split of cross-validation for\u001b[39;00m\n\u001b[0;32m    313\u001b[0m \u001b[39m        diagnostic purposes.\u001b[39;00m\n\u001b[0;32m    314\u001b[0m \n\u001b[0;32m    315\u001b[0m \u001b[39m    sklearn.metrics.make_scorer : Make a scorer from a performance metric or\u001b[39;00m\n\u001b[0;32m    316\u001b[0m \u001b[39m        loss function.\u001b[39;00m\n\u001b[0;32m    317\u001b[0m \n\u001b[0;32m    318\u001b[0m \u001b[39m    Examples\u001b[39;00m\n\u001b[0;32m    319\u001b[0m \u001b[39m    --------\u001b[39;00m\n\u001b[0;32m    320\u001b[0m \u001b[39m    >>> from sklearn import datasets, linear_model\u001b[39;00m\n\u001b[0;32m    321\u001b[0m \u001b[39m    >>> from sklearn.model_selection import cross_validate\u001b[39;00m\n\u001b[0;32m    322\u001b[0m \u001b[39m    >>> from sklearn.metrics import make_scorer\u001b[39;00m\n\u001b[0;32m    323\u001b[0m \u001b[39m    >>> from sklearn.metrics import confusion_matrix\u001b[39;00m\n\u001b[0;32m    324\u001b[0m \u001b[39m    >>> from sklearn.svm import LinearSVC\u001b[39;00m\n\u001b[0;32m    325\u001b[0m \u001b[39m    >>> diabetes = datasets.load_diabetes()\u001b[39;00m\n\u001b[0;32m    326\u001b[0m \u001b[39m    >>> X = diabetes.data[:150]\u001b[39;00m\n\u001b[0;32m    327\u001b[0m \u001b[39m    >>> y = diabetes.target[:150]\u001b[39;00m\n\u001b[0;32m    328\u001b[0m \u001b[39m    >>> lasso = linear_model.Lasso()\u001b[39;00m\n\u001b[0;32m    329\u001b[0m \n\u001b[0;32m    330\u001b[0m \u001b[39m    Single metric evaluation using ``cross_validate``\u001b[39;00m\n\u001b[0;32m    331\u001b[0m \n\u001b[0;32m    332\u001b[0m \u001b[39m    >>> cv_results = cross_validate(lasso, X, y, cv=3)\u001b[39;00m\n\u001b[0;32m    333\u001b[0m \u001b[39m    >>> sorted(cv_results.keys())\u001b[39;00m\n\u001b[0;32m    334\u001b[0m \u001b[39m    ['fit_time', 'score_time', 'test_score']\u001b[39;00m\n\u001b[0;32m    335\u001b[0m \u001b[39m    >>> cv_results['test_score']\u001b[39;00m\n\u001b[0;32m    336\u001b[0m \u001b[39m    array([0.3315057 , 0.08022103, 0.03531816])\u001b[39;00m\n\u001b[0;32m    337\u001b[0m \n\u001b[0;32m    338\u001b[0m \u001b[39m    Multiple metric evaluation using ``cross_validate``\u001b[39;00m\n\u001b[0;32m    339\u001b[0m \u001b[39m    (please refer the ``scoring`` parameter doc for more information)\u001b[39;00m\n\u001b[0;32m    340\u001b[0m \n\u001b[0;32m    341\u001b[0m \u001b[39m    >>> scores = cross_validate(lasso, X, y, cv=3,\u001b[39;00m\n\u001b[0;32m    342\u001b[0m \u001b[39m    ...                         scoring=('r2', 'neg_mean_squared_error'),\u001b[39;00m\n\u001b[0;32m    343\u001b[0m \u001b[39m    ...                         return_train_score=True)\u001b[39;00m\n\u001b[0;32m    344\u001b[0m \u001b[39m    >>> print(scores['test_neg_mean_squared_error'])\u001b[39;00m\n\u001b[0;32m    345\u001b[0m \u001b[39m    [-3635.5... -3573.3... -6114.7...]\u001b[39;00m\n\u001b[0;32m    346\u001b[0m \u001b[39m    >>> print(scores['train_r2'])\u001b[39;00m\n\u001b[0;32m    347\u001b[0m \u001b[39m    [0.28009951 0.3908844  0.22784907]\u001b[39;00m\n\u001b[0;32m    348\u001b[0m \u001b[39m    \"\"\"\u001b[39;00m\n\u001b[0;32m    349\u001b[0m     params \u001b[39m=\u001b[39m _check_params_groups_deprecation(fit_params, params, groups)\n\u001b[0;32m    351\u001b[0m     X, y \u001b[39m=\u001b[39m indexable(X, y)\n",
      "File \u001b[1;32mc:\\ProgramData\\anaconda3\\Lib\\site-packages\\sklearn\\utils\\parallel.py:63\u001b[0m, in \u001b[0;36m__call__\u001b[1;34m(self, iterable)\u001b[0m\n\u001b[0;32m     58\u001b[0m \u001b[39m# Capture the thread-local scikit-learn configuration at the time\u001b[39;00m\n\u001b[0;32m     59\u001b[0m \u001b[39m# Parallel.__call__ is issued since the tasks can be dispatched\u001b[39;00m\n\u001b[0;32m     60\u001b[0m \u001b[39m# in a different thread depending on the backend and on the value of\u001b[39;00m\n\u001b[0;32m     61\u001b[0m \u001b[39m# pre_dispatch and n_jobs.\u001b[39;00m\n\u001b[0;32m     62\u001b[0m config \u001b[39m=\u001b[39m get_config()\n\u001b[1;32m---> 63\u001b[0m iterable_with_config \u001b[39m=\u001b[39m (\n\u001b[0;32m     64\u001b[0m     (_with_config(delayed_func, config), args, kwargs)\n\u001b[0;32m     65\u001b[0m     \u001b[39mfor\u001b[39;00m delayed_func, args, kwargs \u001b[39min\u001b[39;00m iterable\n\u001b[0;32m     66\u001b[0m )\n\u001b[0;32m     67\u001b[0m \u001b[39mreturn\u001b[39;00m \u001b[39msuper\u001b[39m()\u001b[39m.\u001b[39m\u001b[39m__call__\u001b[39m(iterable_with_config)\n",
      "File \u001b[1;32mc:\\ProgramData\\anaconda3\\Lib\\site-packages\\joblib\\parallel.py:1098\u001b[0m, in \u001b[0;36mParallel.__call__\u001b[1;34m(self, iterable)\u001b[0m\n\u001b[0;32m   1095\u001b[0m     \u001b[39mself\u001b[39m\u001b[39m.\u001b[39m_iterating \u001b[39m=\u001b[39m \u001b[39mFalse\u001b[39;00m\n\u001b[0;32m   1097\u001b[0m \u001b[39mwith\u001b[39;00m \u001b[39mself\u001b[39m\u001b[39m.\u001b[39m_backend\u001b[39m.\u001b[39mretrieval_context():\n\u001b[1;32m-> 1098\u001b[0m     \u001b[39mself\u001b[39m\u001b[39m.\u001b[39mretrieve()\n\u001b[0;32m   1099\u001b[0m \u001b[39m# Make sure that we get a last message telling us we are done\u001b[39;00m\n\u001b[0;32m   1100\u001b[0m elapsed_time \u001b[39m=\u001b[39m time\u001b[39m.\u001b[39mtime() \u001b[39m-\u001b[39m \u001b[39mself\u001b[39m\u001b[39m.\u001b[39m_start_time\n",
      "File \u001b[1;32mc:\\ProgramData\\anaconda3\\Lib\\site-packages\\joblib\\parallel.py:975\u001b[0m, in \u001b[0;36mParallel.retrieve\u001b[1;34m(self)\u001b[0m\n\u001b[0;32m    973\u001b[0m \u001b[39mtry\u001b[39;00m:\n\u001b[0;32m    974\u001b[0m     \u001b[39mif\u001b[39;00m \u001b[39mgetattr\u001b[39m(\u001b[39mself\u001b[39m\u001b[39m.\u001b[39m_backend, \u001b[39m'\u001b[39m\u001b[39msupports_timeout\u001b[39m\u001b[39m'\u001b[39m, \u001b[39mFalse\u001b[39;00m):\n\u001b[1;32m--> 975\u001b[0m         \u001b[39mself\u001b[39m\u001b[39m.\u001b[39m_output\u001b[39m.\u001b[39mextend(job\u001b[39m.\u001b[39mget(timeout\u001b[39m=\u001b[39m\u001b[39mself\u001b[39m\u001b[39m.\u001b[39mtimeout))\n\u001b[0;32m    976\u001b[0m     \u001b[39melse\u001b[39;00m:\n\u001b[0;32m    977\u001b[0m         \u001b[39mself\u001b[39m\u001b[39m.\u001b[39m_output\u001b[39m.\u001b[39mextend(job\u001b[39m.\u001b[39mget())\n",
      "File \u001b[1;32mc:\\ProgramData\\anaconda3\\Lib\\site-packages\\joblib\\_parallel_backends.py:567\u001b[0m, in \u001b[0;36mLokyBackend.wrap_future_result\u001b[1;34m(future, timeout)\u001b[0m\n\u001b[0;32m    564\u001b[0m \u001b[39m\u001b[39m\u001b[39m\"\"\"Wrapper for Future.result to implement the same behaviour as\u001b[39;00m\n\u001b[0;32m    565\u001b[0m \u001b[39mAsyncResults.get from multiprocessing.\"\"\"\u001b[39;00m\n\u001b[0;32m    566\u001b[0m \u001b[39mtry\u001b[39;00m:\n\u001b[1;32m--> 567\u001b[0m     \u001b[39mreturn\u001b[39;00m future\u001b[39m.\u001b[39mresult(timeout\u001b[39m=\u001b[39mtimeout)\n\u001b[0;32m    568\u001b[0m \u001b[39mexcept\u001b[39;00m CfTimeoutError \u001b[39mas\u001b[39;00m e:\n\u001b[0;32m    569\u001b[0m     \u001b[39mraise\u001b[39;00m \u001b[39mTimeoutError\u001b[39;00m \u001b[39mfrom\u001b[39;00m \u001b[39me\u001b[39;00m\n",
      "File \u001b[1;32mc:\\ProgramData\\anaconda3\\Lib\\concurrent\\futures\\_base.py:456\u001b[0m, in \u001b[0;36mFuture.result\u001b[1;34m(self, timeout)\u001b[0m\n\u001b[0;32m    454\u001b[0m     \u001b[39mraise\u001b[39;00m CancelledError()\n\u001b[0;32m    455\u001b[0m \u001b[39melif\u001b[39;00m \u001b[39mself\u001b[39m\u001b[39m.\u001b[39m_state \u001b[39m==\u001b[39m FINISHED:\n\u001b[1;32m--> 456\u001b[0m     \u001b[39mreturn\u001b[39;00m \u001b[39mself\u001b[39m\u001b[39m.\u001b[39m__get_result()\n\u001b[0;32m    457\u001b[0m \u001b[39melse\u001b[39;00m:\n\u001b[0;32m    458\u001b[0m     \u001b[39mraise\u001b[39;00m \u001b[39mTimeoutError\u001b[39;00m()\n",
      "File \u001b[1;32mc:\\ProgramData\\anaconda3\\Lib\\concurrent\\futures\\_base.py:401\u001b[0m, in \u001b[0;36mFuture.__get_result\u001b[1;34m(self)\u001b[0m\n\u001b[0;32m    399\u001b[0m \u001b[39mif\u001b[39;00m \u001b[39mself\u001b[39m\u001b[39m.\u001b[39m_exception:\n\u001b[0;32m    400\u001b[0m     \u001b[39mtry\u001b[39;00m:\n\u001b[1;32m--> 401\u001b[0m         \u001b[39mraise\u001b[39;00m \u001b[39mself\u001b[39m\u001b[39m.\u001b[39m_exception\n\u001b[0;32m    402\u001b[0m     \u001b[39mfinally\u001b[39;00m:\n\u001b[0;32m    403\u001b[0m         \u001b[39m# Break a reference cycle with the exception in self._exception\u001b[39;00m\n\u001b[0;32m    404\u001b[0m         \u001b[39mself\u001b[39m \u001b[39m=\u001b[39m \u001b[39mNone\u001b[39;00m\n",
      "\u001b[1;31mBrokenProcessPool\u001b[0m: A task has failed to un-serialize. Please ensure that the arguments of the function are all picklable."
     ]
    }
   ],
   "source": [
    "## normal submission using xgb\n",
    "model = XGBRegressor()\n",
    "model.fit(X_train,y_train)\n",
    "pred = model.predict(X_test)\n",
    "\n",
    "## saving file\n",
    "sub = pd.DataFrame(data = pred, columns=['Item_Outlet_Sales'])\n",
    "sub['Item_Identifier'] = test['Item_Identifier']\n",
    "sub['Outlet_Identifier'] = test['Outlet_Identifier']\n",
    "#sub.to_csv('bigmart-xgb.csv', index='False')\n",
    "\n",
    "cross_val_score(model, X_train, y_train, cv=num_folds, scoring='neg_mean_squared_error', n_jobs=8)"
   ]
  },
  {
   "cell_type": "markdown",
   "metadata": {},
   "source": [
    "Xgb gives us the best results. on submission it gives an rmse of 1152.73"
   ]
  },
  {
   "cell_type": "code",
   "execution_count": null,
   "metadata": {},
   "outputs": [],
   "source": [
    "from sklearn.utils import shuffle\n",
    "from sklearn.base import BaseEstimator, RegressorMixin\n",
    "\n",
    "class PseudoLabeler(BaseEstimator, RegressorMixin):\n",
    "    '''\n",
    "    Sci-kit learn wrapper for creating pseudo-lebeled estimators.\n",
    "    '''\n",
    "    \n",
    "    def __init__(self, model, unlabled_data, features, target, sample_rate=0.2, seed=42):\n",
    "        '''\n",
    "        @sample_rate - percent of samples used as pseudo-labelled data\n",
    "                       from the unlabled dataset\n",
    "        '''\n",
    "        assert sample_rate <= 1.0, 'Sample_rate should be between 0.0 and 1.0.'\n",
    "        \n",
    "        self.sample_rate = sample_rate\n",
    "        self.seed = seed\n",
    "        self.model = model\n",
    "        self.model.seed = seed\n",
    "        \n",
    "        self.unlabled_data = unlabled_data\n",
    "        self.features = features\n",
    "        self.target = target\n",
    "        \n",
    "    def get_params(self, deep=True):\n",
    "        return {\n",
    "            \"sample_rate\": self.sample_rate,\n",
    "            \"seed\": self.seed,\n",
    "            \"model\": self.model,\n",
    "            \"unlabled_data\": self.unlabled_data,\n",
    "            \"features\": self.features,\n",
    "            \"target\": self.target\n",
    "        }\n",
    "\n",
    "    def set_params(self, **parameters):\n",
    "        for parameter, value in parameters.items():\n",
    "            setattr(self, parameter, value)\n",
    "        return self\n",
    "\n",
    "        \n",
    "    def fit(self, X, y):\n",
    "        '''\n",
    "        Fit the data using pseudo labeling.\n",
    "        '''\n",
    "\n",
    "        augemented_train = self.__create_augmented_train(X, y)\n",
    "        self.model.fit(\n",
    "            augemented_train[self.features],\n",
    "            augemented_train[self.target]\n",
    "        )\n",
    "        \n",
    "        return self\n",
    "\n",
    "\n",
    "    def __create_augmented_train(self, X, y):\n",
    "        '''\n",
    "        Create and return the augmented_train set that consists\n",
    "        of pseudo-labeled and labeled data.\n",
    "        '''        \n",
    "        num_of_samples = int(len(self.unlabled_data) * self.sample_rate)\n",
    "        \n",
    "        # Train the model and creat the pseudo-labels\n",
    "        self.model.fit(X, y)\n",
    "        pseudo_labels = self.model.predict(self.unlabled_data[self.features])\n",
    "        \n",
    "        # Add the pseudo-labels to the test set\n",
    "        pseudo_data = self.unlabled_data.copy(deep=True)\n",
    "        pseudo_data[self.target] = pseudo_labels\n",
    "        \n",
    "        # Take a subset of the test set with pseudo-labels and append in onto\n",
    "        # the training set\n",
    "        sampled_pseudo_data = pseudo_data.sample(n=num_of_samples)\n",
    "        temp_train = pd.concat([X, y], axis=1)\n",
    "        augemented_train = pd.concat([sampled_pseudo_data, temp_train])\n",
    "\n",
    "        return shuffle(augemented_train)\n",
    "        \n",
    "    def predict(self, X):\n",
    "        '''\n",
    "        Returns the predicted values.\n",
    "        '''\n",
    "        return self.model.predict(X)\n",
    "    \n",
    "    def get_model_name(self):\n",
    "        return self.model.__class__.__name__"
   ]
  },
  {
   "cell_type": "markdown",
   "metadata": {},
   "source": [
    "# Pseudo Labeler"
   ]
  },
  {
   "cell_type": "code",
   "execution_count": null,
   "metadata": {},
   "outputs": [
    {
     "data": {
      "text/plain": [
       "array([-1403228.11949091, -1375012.59733661, -1394356.52441615])"
      ]
     },
     "execution_count": 9,
     "metadata": {},
     "output_type": "execute_result"
    }
   ],
   "source": [
    "model = PseudoLabeler(\n",
    "    XGBRegressor(nthread=1),\n",
    "    test,\n",
    "    features,\n",
    "    target,\n",
    "    sample_rate = 0.3\n",
    ")\n",
    "\n",
    "model.fit(X_train, y_train)\n",
    "pred = model.predict(X_test)\n",
    "cross_val_score(model, X_train, y_train, cv=num_folds, scoring='neg_mean_squared_error', n_jobs=8)"
   ]
  },
  {
   "cell_type": "code",
   "execution_count": null,
   "metadata": {},
   "outputs": [],
   "source": [
    "sub = pd.DataFrame(data = pred, columns=['Item_Outlet_Sales'])\n",
    "sub['Item_Identifier'] = test['Item_Identifier']\n",
    "sub['Outlet_Identifier'] = test['Outlet_Identifier']\n",
    "sub.to_csv('pseudo-labelling.csv', index='False')"
   ]
  },
  {
   "cell_type": "markdown",
   "metadata": {},
   "source": [
    "On submission, it gives a rmse score of 1151.38 which is better than our previous xgb submission."
   ]
  },
  {
   "cell_type": "markdown",
   "metadata": {},
   "source": [
    "# Comparing xgboost with xgb with pseudo labelling"
   ]
  },
  {
   "cell_type": "code",
   "execution_count": null,
   "metadata": {},
   "outputs": [
    {
     "name": "stdout",
     "output_type": "stream",
     "text": [
      "XGBRegressor              CV-8 MSE: 1183.6297 (+/- 156156.5398)\n",
      "PseudoLabeler             CV-8 MSE: 1163.9937 (+/- 129909.1863)\n"
     ]
    }
   ],
   "source": [
    "model_factory = [\n",
    "    XGBRegressor(nthread=1),\n",
    "    \n",
    "    PseudoLabeler(\n",
    "        XGBRegressor(nthread=1),\n",
    "        test,\n",
    "        features,\n",
    "        target,\n",
    "        sample_rate=0.3\n",
    "    ),\n",
    "]\n",
    "\n",
    "for model in model_factory:\n",
    "    model.seed = 42\n",
    "    num_folds = 8\n",
    "    \n",
    "    scores = cross_val_score(model, X_train, y_train, cv=num_folds, scoring='neg_mean_squared_error', n_jobs=8)\n",
    "    score_description = \"MSE: %0.4f (+/- %0.4f)\" % (np.sqrt(scores.mean()*-1), scores.std() * 2)\n",
    "\n",
    "    print('{model:25} CV-{num_folds} {score_cv}'.format(\n",
    "        model=model.__class__.__name__,\n",
    "        num_folds=num_folds,\n",
    "        score_cv=score_description\n",
    "    ))"
   ]
  },
  {
   "cell_type": "markdown",
   "metadata": {},
   "source": [
    "# Performance of pseudo-labelling depedendance on sampling rate"
   ]
  },
  {
   "cell_type": "code",
   "execution_count": null,
   "metadata": {},
   "outputs": [
    {
     "name": "stdout",
     "output_type": "stream",
     "text": [
      "RandomForestRegressor\n",
      "XGBRegressor\n"
     ]
    }
   ],
   "source": [
    "sample_rates = np.linspace(0, 1, 10)\n",
    "\n",
    "def pseudo_label_wrapper(model):\n",
    "    return PseudoLabeler(model, test, features, target)\n",
    "\n",
    "# List of all models to test\n",
    "model_factory = [\n",
    "    RandomForestRegressor(n_jobs=1),\n",
    "    XGBRegressor(),\n",
    "]\n",
    "\n",
    "# Apply the PseudoLabeler class to each model\n",
    "model_factory = map(pseudo_label_wrapper, model_factory)\n",
    "\n",
    "# Train each model with different sample rates\n",
    "results = {}\n",
    "num_folds = 5\n",
    "\n",
    "for model in model_factory:\n",
    "    model_name = model.get_model_name()\n",
    "    print('%s' % model_name)\n",
    "\n",
    "    results[model_name] = list()\n",
    "    for sample_rate in sample_rates:\n",
    "        model.sample_rate = sample_rate\n",
    "        \n",
    "        # Calculate the CV-3 R2 score and store it\n",
    "        scores = cross_val_score(model, X_train, y_train, cv=num_folds, scoring='neg_mean_squared_error', n_jobs=8)\n",
    "        results[model_name].append(np.sqrt(scores.mean()*-1))"
   ]
  },
  {
   "cell_type": "code",
   "execution_count": null,
   "metadata": {},
   "outputs": [
    {
     "data": {
      "image/png": "[encoded data removed]",
      "text/plain": [
       "<Figure size 1600x1800 with 2 Axes>"
      ]
     },
     "metadata": {},
     "output_type": "display_data"
    }
   ],
   "source": [
    "plt.figure(figsize=(16, 18))\n",
    "\n",
    "i = 1\n",
    "for model_name, performance in results.items():    \n",
    "    plt.subplot(3, 3, i)\n",
    "    i += 1\n",
    "    \n",
    "    plt.plot(sample_rates, performance)\n",
    "    plt.title(model_name)\n",
    "    plt.xlabel('sample_rate')\n",
    "    plt.ylabel('RMSE')\n",
    "    \n",
    "\n",
    "plt.show()"
   ]
  },
  {
   "cell_type": "code",
   "execution_count": null,
   "metadata": {
    "collapsed": true
   },
   "outputs": [],
   "source": []
  }
 ],
 "metadata": {
  "kernelspec": {
   "display_name": "Python 3 (ipykernel)",
   "language": "python",
   "name": "python3"
  },
  "language_info": {
   "codemirror_mode": {
    "name": "ipython",
    "version": 3
   },
   "file_extension": ".py",
   "mimetype": "text/x-python",
   "name": "python",
   "nbconvert_exporter": "python",
   "pygments_lexer": "ipython3",
   "version": "3.11.7"
  }
 },
 "nbformat": 4,
 "nbformat_minor": 2
}
